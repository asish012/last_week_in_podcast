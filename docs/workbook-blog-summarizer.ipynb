{
 "cells": [
  {
   "cell_type": "code",
   "execution_count": null,
   "metadata": {},
   "outputs": [],
   "source": [
    "from bs4 import BeautifulSoup\n",
    "import re\n",
    "import requests"
   ]
  },
  {
   "cell_type": "code",
   "execution_count": null,
   "metadata": {},
   "outputs": [],
   "source": [
    "url = \"https://medium.com/analytics-vidhya/scraping-web-apps-using-direct-http-request-f5c02a2874fe\""
   ]
  },
  {
   "cell_type": "code",
   "execution_count": null,
   "metadata": {},
   "outputs": [],
   "source": [
    "headers = {\n",
    "    'user-agent':'Mozilla/5.0'\n",
    "}\n",
    "html = requests.get(url, headers=headers).text"
   ]
  },
  {
   "cell_type": "code",
   "execution_count": null,
   "metadata": {},
   "outputs": [],
   "source": [
    "# html.text"
   ]
  },
  {
   "cell_type": "code",
   "execution_count": null,
   "metadata": {},
   "outputs": [],
   "source": [
    "# html = markdown.markdown(md)\n",
    "soup = BeautifulSoup(html, features='html.parser')\n",
    "text = soup.get_text()\n",
    "\n",
    "unsplash_rx = r'[iI]mage by.*?com'\n",
    "unsplash_rx = r'[pP]hoto by.*?Unsplash'\n",
    "text = re.sub(unsplash_rx, '', text)\n",
    "text = re.sub('\\s+', ' ', text)\n",
    "text = re.sub(r'http.*?\\s+', '', text)\n",
    "text"
   ]
  },
  {
   "cell_type": "code",
   "execution_count": null,
   "metadata": {},
   "outputs": [],
   "source": []
  }
 ],
 "metadata": {
  "kernelspec": {
   "display_name": "ml",
   "language": "python",
   "name": "python3"
  },
  "language_info": {
   "codemirror_mode": {
    "name": "ipython",
    "version": 3
   },
   "file_extension": ".py",
   "mimetype": "text/x-python",
   "name": "python",
   "nbconvert_exporter": "python",
   "pygments_lexer": "ipython3",
   "version": "3.7.9"
  },
  "orig_nbformat": 4,
  "vscode": {
   "interpreter": {
    "hash": "1e16badcd090a4c35dcbb6990b0039e580978590aa106177b04ad834b71421ab"
   }
  }
 },
 "nbformat": 4,
 "nbformat_minor": 2
}
