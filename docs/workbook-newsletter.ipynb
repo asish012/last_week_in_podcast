{
 "cells": [
  {
   "cell_type": "code",
   "execution_count": 1,
   "metadata": {},
   "outputs": [],
   "source": [
    "import openai\n",
    "import json\n",
    "import re\n",
    "from time import time, sleep\n",
    "import sys\n",
    "\n",
    "from youtube_transcript_api import YouTubeTranscriptApi\n",
    "from youtube_transcript_api.formatters import JSONFormatter, TextFormatter\n",
    "\n",
    "sys.path.append('../src/')\n",
    "# from summarizer import get_transcript\n",
    "# from summarizer import gpt3_completion"
   ]
  },
  {
   "cell_type": "code",
   "execution_count": 2,
   "metadata": {},
   "outputs": [],
   "source": [
    "basedir = '../src/'\n",
    "video_id = '0lJKucu6HJc'\n",
    "video_id = 'uh1GRQtKjLo'"
   ]
  },
  {
   "cell_type": "code",
   "execution_count": 3,
   "metadata": {},
   "outputs": [],
   "source": [
    "def save_file(content, filepath):\n",
    "    with open(filepath, 'w', encoding='utf-8') as outfile:\n",
    "        outfile.write(content)"
   ]
  },
  {
   "cell_type": "code",
   "execution_count": 4,
   "metadata": {},
   "outputs": [],
   "source": [
    "def gpt3_completion(prompt, model='text-davinci-003', temp=0.7, top_p=1.0, tokens=500, freq_pen=0.25, pres_pen=0.0, stop=['###']):\n",
    "    max_retry = 1\n",
    "    retry = 0\n",
    "    while True:\n",
    "        try:\n",
    "            response = openai.Completion.create(\n",
    "                model=model,\n",
    "                prompt=prompt,\n",
    "                temperature=temp,\n",
    "                max_tokens=tokens,\n",
    "                top_p=top_p,\n",
    "                frequency_penalty=freq_pen,\n",
    "                presence_penalty=pres_pen,\n",
    "                stop=stop)\n",
    "            text = response['choices'][0]['text'].strip()\n",
    "            text = re.sub('\\s+', ' ', text)\n",
    "            if not text:\n",
    "                retry += 1\n",
    "                continue\n",
    "            filename = f'gpt3_{video_id}_{time()}.log'\n",
    "            with open(f'{basedir}/logs/{filename}', 'w') as outfile:\n",
    "                outfile.write('PROMPT:\\n\\n' + prompt + '\\n\\n==========\\n\\nRESPONSE:\\n\\n' + text)\n",
    "            return text\n",
    "\n",
    "        except Exception as e:\n",
    "            retry += 1\n",
    "            if retry >= max_retry:\n",
    "                raise Exception(f'GPT3 error: {str(e)}')\n",
    "            # sleep(1)\n"
   ]
  },
  {
   "cell_type": "code",
   "execution_count": 5,
   "metadata": {},
   "outputs": [],
   "source": [
    "def get_transcript(video_id):\n",
    "    if not video_id:\n",
    "        raise Exception('Video ID not found')\n",
    "\n",
    "    try:\n",
    "        transcript = YouTubeTranscriptApi.get_transcript(video_id, languages=['en'])\n",
    "\n",
    "        formatter = JSONFormatter()\n",
    "        text = formatter.format_transcript(transcript)\n",
    "        # text = re.sub('\\s+', ' ', text).replace('--', '')\n",
    "        return text\n",
    "\n",
    "    except Exception as e:\n",
    "        raise Exception('Could not download the transcript')"
   ]
  },
  {
   "cell_type": "code",
   "execution_count": 52,
   "metadata": {},
   "outputs": [],
   "source": [
    "def slice_transcript(transcript, end, start=0):             # example: start | end = 652 (seconds)\n",
    "    if start > end[0]: raise Exception('Start is ahead of End')\n",
    "\n",
    "    text = []\n",
    "    for obj in transcript:\n",
    "        if start > obj['start']: continue\n",
    "        if obj['start'] > end:\n",
    "            return re.sub('\\s+', ' ', ' '.join(text))\n",
    "        text.append(obj['text'])\n",
    "\n",
    "\n",
    "def slice_transcript(transcript, end=list(), start=list()):     # example: end=list[34.56, 66.45]; start=65.32 (seconds)\n",
    "    if not len(end): raise Exception('Missing parameter: end')\n",
    "    if start[0] > end[0]: raise Exception('Start is ahead of End')\n",
    "\n",
    "    chapters = []\n",
    "    text = []\n",
    "    checkpoint = 0\n",
    "    for obj in transcript:\n",
    "        if start[0] > obj['start']: continue\n",
    "        if checkpoint >= len(end): return chapters\n",
    "\n",
    "        if obj['start'] > end[checkpoint]:\n",
    "            chapters.append((start[checkpoint], re.sub('\\s+', ' ', ' '.join(text))))\n",
    "            text.clear()\n",
    "            checkpoint += 1\n",
    "        text.append(obj['text'])\n",
    "\n",
    "    return chapters\n"
   ]
  },
  {
   "cell_type": "code",
   "execution_count": 53,
   "metadata": {},
   "outputs": [],
   "source": [
    "# download transcript\n",
    "transcript = json.loads(get_transcript(video_id))\n",
    "# save_file(json.dumps(transcript), './transcript.txt')\n",
    "\n",
    "# # slice once\n",
    "# transcript = slice_transcript(transcript, 300, 100)\n",
    "# multiple slice\n",
    "transcripts = slice_transcript(transcript, [315, 440, 630, 720, 910], [0, 315, 440, 630, 720])\n",
    "\n",
    "save_file(json.dumps(transcripts), './transcript_text.txt')"
   ]
  },
  {
   "cell_type": "code",
   "execution_count": 44,
   "metadata": {},
   "outputs": [],
   "source": [
    "def time_to_seconds(time_str):\n",
    "    parts = [int(part) for part in time_str.split(\":\")]\n",
    "    if len(parts) == 2:\n",
    "        return parts[0] * 60 + parts[1]\n",
    "    elif len(parts) == 3:\n",
    "        return parts[0] * 3600 + parts[1] * 60 + parts[2]\n",
    "    else:\n",
    "        raise ValueError(\"Invalid time format: \" + time_str)\n",
    "\n",
    "def transform_chapter_timestamp(chapters):\n",
    "    '''\n",
    "    This function expects chapter with timestamp as string. The last item should be the 'End' timestamp, indicating the end of the video.\n",
    "        [\"00:00 Chapter Title\"]\n",
    "        [\"04:15 Chapter Title\"]\n",
    "        [\"07:21 Chapter Title\"]\n",
    "        [\"10:31 End\"]\n",
    "    '''\n",
    "\n",
    "    chapter_list = [line.strip().split(\" \", 1) for line in chapters]\n",
    "\n",
    "    # chapter titles\n",
    "    chapter_titles = [chapter[1] for chapter in chapter_list]\n",
    "\n",
    "    # chapter start ts\n",
    "    chapter_starts = []\n",
    "    for chapter in chapter_list:\n",
    "        if chapter[0][0].isdigit():\n",
    "            chapter_starts.append(time_to_seconds(chapter[0]))\n",
    "        else:\n",
    "            chapter_starts.append(time_to_seconds(chapter[0][1:-1]))\n",
    "\n",
    "    # chapter end & start ts\n",
    "    chapter_ends = chapter_starts[1:]\n",
    "    chapter_starts = chapter_starts[:-1]    # exclude the 'End' timestamp\n",
    "\n",
    "    return list(zip(chapter_starts, chapter_ends, chapter_titles))"
   ]
  },
  {
   "cell_type": "code",
   "execution_count": 45,
   "metadata": {},
   "outputs": [],
   "source": [
    "chapters = '''\n",
    "(00:00) Gustafs background\n",
    "(05:15) What made Airbnb so special\n",
    "(07:20) How culture interviews and hiring founders contributed to Airbnbs success\n",
    "(10:30) Motivations for starting companies\n",
    "(12:00) Why Gustaf helps founders understand their motivations\n",
    "(15:10) End\n",
    "'''"
   ]
  },
  {
   "cell_type": "code",
   "execution_count": 48,
   "metadata": {},
   "outputs": [
    {
     "name": "stdout",
     "output_type": "stream",
     "text": [
      "[0, 315, 440, 630, 720] [315, 440, 630, 720, 910]\n"
     ]
    }
   ],
   "source": [
    "chapter_list = chapters.strip().split(\"\\n\")\n",
    "chapter_ts = transform_chapter_timestamp(chapter_list)\n",
    "\n",
    "ch_starts = [ch[0] for ch in chapter_ts]\n",
    "ch_ends = [ch[1] for ch in chapter_ts]\n",
    "print(ch_starts, ch_ends)"
   ]
  },
  {
   "cell_type": "code",
   "execution_count": 61,
   "metadata": {},
   "outputs": [
    {
     "data": {
      "text/plain": [
       "'c:\\\\Users\\\\cn4tvne\\\\OneDrive - Allianz\\\\Personal (1Drive)\\\\3Hustlers\\\\last_week_in_podcast\\\\docs'"
      ]
     },
     "execution_count": 61,
     "metadata": {},
     "output_type": "execute_result"
    }
   ],
   "source": [
    "import os\n",
    "os.path.abspath(os.curdir)"
   ]
  },
  {
   "cell_type": "code",
   "execution_count": null,
   "metadata": {},
   "outputs": [],
   "source": []
  },
  {
   "cell_type": "code",
   "execution_count": null,
   "metadata": {},
   "outputs": [],
   "source": []
  }
 ],
 "metadata": {
  "kernelspec": {
   "display_name": "3hustlers",
   "language": "python",
   "name": "python3"
  },
  "language_info": {
   "codemirror_mode": {
    "name": "ipython",
    "version": 3
   },
   "file_extension": ".py",
   "mimetype": "text/x-python",
   "name": "python",
   "nbconvert_exporter": "python",
   "pygments_lexer": "ipython3",
   "version": "3.8.15"
  },
  "orig_nbformat": 4,
  "vscode": {
   "interpreter": {
    "hash": "1720a54624c2cc65813c941502dfeaea8e4137328aa10f7af3b14240fbc7bb55"
   }
  }
 },
 "nbformat": 4,
 "nbformat_minor": 2
}
